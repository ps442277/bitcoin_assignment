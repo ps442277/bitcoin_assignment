{
 "cells": [
  {
   "cell_type": "code",
   "execution_count": 1,
   "id": "557feab0",
   "metadata": {},
   "outputs": [
    {
     "data": {
      "application/vnd.jupyter.widget-view+json": {
       "model_id": "f6871cd63fc94cd2a7fd12bcc957a031",
       "version_major": 2,
       "version_minor": 0
      },
      "text/plain": [
       "VBox()"
      ]
     },
     "metadata": {},
     "output_type": "display_data"
    },
    {
     "name": "stdout",
     "output_type": "stream",
     "text": [
      "Starting Spark application\n"
     ]
    },
    {
     "data": {
      "text/html": [
       "<table>\n",
       "<tr><th>ID</th><th>YARN Application ID</th><th>Kind</th><th>State</th><th>Spark UI</th><th>Driver log</th><th>User</th><th>Current session?</th></tr><tr><td>3</td><td>application_1661092712400_0004</td><td>pyspark</td><td>idle</td><td><a target=\"_blank\" href=\"http://ip-172-31-10-130.ec2.internal:20888/proxy/application_1661092712400_0004/\" class=\"emr-proxy-link\" emr-resource=\"j-QAB8VVKZU58O\n",
       "\" application-id=\"application_1661092712400_0004\">Link</a></td><td><a target=\"_blank\" href=\"http://ip-172-31-10-130.ec2.internal:8042/node/containerlogs/container_1661092712400_0004_01_000001/livy\" >Link</a></td><td>None</td><td>✔</td></tr></table>"
      ],
      "text/plain": [
       "<IPython.core.display.HTML object>"
      ]
     },
     "metadata": {},
     "output_type": "display_data"
    },
    {
     "data": {
      "application/vnd.jupyter.widget-view+json": {
       "model_id": "",
       "version_major": 2,
       "version_minor": 0
      },
      "text/plain": [
       "FloatProgress(value=0.0, bar_style='info', description='Progress:', layout=Layout(height='25px', width='50%'),…"
      ]
     },
     "metadata": {},
     "output_type": "display_data"
    },
    {
     "name": "stdout",
     "output_type": "stream",
     "text": [
      "SparkSession available as 'spark'.\n"
     ]
    },
    {
     "data": {
      "application/vnd.jupyter.widget-view+json": {
       "model_id": "",
       "version_major": 2,
       "version_minor": 0
      },
      "text/plain": [
       "FloatProgress(value=0.0, bar_style='info', description='Progress:', layout=Layout(height='25px', width='50%'),…"
      ]
     },
     "metadata": {},
     "output_type": "display_data"
    }
   ],
   "source": [
    "from pyspark.sql import SparkSession\n",
    "spark = SparkSession.builder.appName(\"eComm\").getOrCreate()"
   ]
  },
  {
   "cell_type": "code",
   "execution_count": 2,
   "id": "95654055",
   "metadata": {},
   "outputs": [
    {
     "data": {
      "application/vnd.jupyter.widget-view+json": {
       "model_id": "c93c2fd0f289431d8a1e45d1ad3c4d77",
       "version_major": 2,
       "version_minor": 0
      },
      "text/plain": [
       "VBox()"
      ]
     },
     "metadata": {},
     "output_type": "display_data"
    },
    {
     "data": {
      "application/vnd.jupyter.widget-view+json": {
       "model_id": "",
       "version_major": 2,
       "version_minor": 0
      },
      "text/plain": [
       "FloatProgress(value=0.0, bar_style='info', description='Progress:', layout=Layout(height='25px', width='50%'),…"
      ]
     },
     "metadata": {},
     "output_type": "display_data"
    },
    {
     "name": "stdout",
     "output_type": "stream",
     "text": [
      "+--------------+--------+-------+--------+---------+---------+--------+--------------+-------+-------------+-------------------+\n",
      "|Market_fact_id|  Ord_id|Prod_id| Ship_id|  Cust_id|    Sales|Discount|Order_Quantity| Profit|Shipping_Cost|Product_Base_Margin|\n",
      "+--------------+--------+-------+--------+---------+---------+--------+--------------+-------+-------------+-------------------+\n",
      "|             1|Ord_5446|Prod_16|SHP_7609|Cust_1818|   136.81|    0.01|            23| -30.51|          3.6|               0.56|\n",
      "|             2|Ord_5406|Prod_13|SHP_7549|Cust_1818|    42.27|    0.01|            13|   4.56|         0.93|               0.54|\n",
      "|             3|Ord_5446| Prod_4|SHP_7610|Cust_1818|  4701.69|     0.0|            26| 1148.9|          2.5|               0.59|\n",
      "|             4|Ord_5456| Prod_6|SHP_7625|Cust_1818|  2337.89|    0.09|            43| 729.34|         14.3|               0.37|\n",
      "|             5|Ord_5485|Prod_17|SHP_7664|Cust_1818|  4233.15|    0.08|            35|1219.87|         26.3|               0.38|\n",
      "|             6|Ord_5446| Prod_6|SHP_7608|Cust_1818|   164.02|    0.03|            23| -47.64|         6.15|               0.37|\n",
      "|             7|  Ord_31|Prod_12|  SHP_41|  Cust_26|    14.76|    0.01|             5|   1.32|          0.5|               0.36|\n",
      "|             8|Ord_4725| Prod_4|SHP_6593|Cust_1641|3410.1575|     0.1|            48|1137.91|         0.99|               0.55|\n",
      "|             9|Ord_4725|Prod_13|SHP_6593|Cust_1641|    162.0|    0.01|            33|  45.84|         0.71|               0.52|\n",
      "|            10|Ord_4725| Prod_6|SHP_6593|Cust_1641|    57.22|    0.07|             8| -27.72|          6.6|               0.37|\n",
      "|            11|Ord_4743| Prod_2|SHP_6615|Cust_1641|  4072.01|    0.01|            43|1675.98|         0.99|               0.56|\n",
      "|            12|Ord_1925| Prod_6|SHP_2637| Cust_708|    465.9|    0.05|            38|  79.34|         4.86|               0.38|\n",
      "|            13|Ord_2978|Prod_16|SHP_4112|Cust_1088|   305.05|    0.04|            27|  23.12|         3.37|               0.57|\n",
      "|            14|Ord_2207|Prod_11|SHP_3093| Cust_839| 3364.248|     0.1|            15|-693.23|        61.76|               0.78|\n",
      "|            15|Ord_2207|Prod_10|SHP_3006| Cust_839|  1410.93|    0.08|            10|-317.48|        36.09|               0.77|\n",
      "+--------------+--------+-------+--------+---------+---------+--------+--------------+-------+-------------+-------------------+"
     ]
    }
   ],
   "source": [
    "market_fact_df = spark.read.options(inferSchema='True',header='True').csv(\"s3://myawsbucketbuckettt/market_fact_full.csv\")\n",
    "market_fact_df.show();"
   ]
  },
  {
   "cell_type": "code",
   "execution_count": 3,
   "id": "ea3f538b",
   "metadata": {
    "scrolled": true
   },
   "outputs": [
    {
     "data": {
      "application/vnd.jupyter.widget-view+json": {
       "model_id": "b2a212eea5764372945dcee50d9d7bc9",
       "version_major": 2,
       "version_minor": 0
      },
      "text/plain": [
       "VBox()"
      ]
     },
     "metadata": {},
     "output_type": "display_data"
    },
    {
     "data": {
      "application/vnd.jupyter.widget-view+json": {
       "model_id": "",
       "version_major": 2,
       "version_minor": 0
      },
      "text/plain": [
       "FloatProgress(value=0.0, bar_style='info', description='Progress:', layout=Layout(height='25px', width='50%'),…"
      ]
     },
     "metadata": {},
     "output_type": "display_data"
    },
    {
     "name": "stdout",
     "output_type": "stream",
     "text": [
      "+-------+----------------+--------------------+-------+\n",
      "|Prod_id|Product_Category|Product_Sub_Category|Manu_Id|\n",
      "+-------+----------------+--------------------+-------+\n",
      "| Prod_1| OFFICE SUPPLIES|STORAGE & ORGANIZ...|   NULL|\n",
      "|Prod_10|       FURNITURE|           BOOKCASES|   NULL|\n",
      "|Prod_11|       FURNITURE|              TABLES|   NULL|\n",
      "|Prod_12| OFFICE SUPPLIES|              LABELS|   NULL|\n",
      "|Prod_13| OFFICE SUPPLIES| PENS & ART SUPPLIES|   NULL|\n",
      "|Prod_14|      TECHNOLOGY|     COPIERS AND FAX|      2|\n",
      "|Prod_15|       FURNITURE|  CHAIRS & CHAIRMATS|   NULL|\n",
      "|Prod_16| OFFICE SUPPLIES|SCISSORS, RULERS ...|   NULL|\n",
      "|Prod_17|      TECHNOLOGY|     OFFICE MACHINES|      2|\n",
      "| Prod_2| OFFICE SUPPLIES|          APPLIANCES|   NULL|\n",
      "| Prod_3| OFFICE SUPPLIES|BINDERS AND BINDE...|   NULL|\n",
      "| Prod_4|      TECHNOLOGY|TELEPHONES AND CO...|      2|\n",
      "| Prod_5|       FURNITURE|  OFFICE FURNISHINGS|   NULL|\n",
      "| Prod_6| OFFICE SUPPLIES|               PAPER|   NULL|\n",
      "| Prod_7| OFFICE SUPPLIES|        RUBBER BANDS|   NULL|\n",
      "| Prod_8|      TECHNOLOGY|COMPUTER PERIPHERALS|      2|\n",
      "| Prod_9| OFFICE SUPPLIES|           ENVELOPES|   NULL|\n",
      "+-------+----------------+--------------------+-------+"
     ]
    }
   ],
   "source": [
    "prod_dim_df = spark.read.options(inferSchema='True',header='True').csv(\"s3://myawsbucketbuckettt/prod_dimen.csv\")\n",
    "prod_dim_df.show();"
   ]
  },
  {
   "cell_type": "markdown",
   "id": "ae466014",
   "metadata": {},
   "source": [
    "### Task1 : For every order, find the Cust_id, product category and sub-category along with the profit made on each of the orders. \n"
   ]
  },
  {
   "cell_type": "code",
   "execution_count": 4,
   "id": "745da218",
   "metadata": {},
   "outputs": [
    {
     "data": {
      "application/vnd.jupyter.widget-view+json": {
       "model_id": "5adfff49990b46d1a62b30568bbb1a71",
       "version_major": 2,
       "version_minor": 0
      },
      "text/plain": [
       "VBox()"
      ]
     },
     "metadata": {},
     "output_type": "display_data"
    },
    {
     "data": {
      "application/vnd.jupyter.widget-view+json": {
       "model_id": "",
       "version_major": 2,
       "version_minor": 0
      },
      "text/plain": [
       "FloatProgress(value=0.0, bar_style='info', description='Progress:', layout=Layout(height='25px', width='50%'),…"
      ]
     },
     "metadata": {},
     "output_type": "display_data"
    },
    {
     "name": "stdout",
     "output_type": "stream",
     "text": [
      "+--------+-------+---------+-------+\n",
      "|  Ord_id|Prod_id|  Cust_id| Profit|\n",
      "+--------+-------+---------+-------+\n",
      "|Ord_5446|Prod_16|Cust_1818| -30.51|\n",
      "|Ord_5406|Prod_13|Cust_1818|   4.56|\n",
      "|Ord_5446| Prod_4|Cust_1818| 1148.9|\n",
      "|Ord_5456| Prod_6|Cust_1818| 729.34|\n",
      "|Ord_5485|Prod_17|Cust_1818|1219.87|\n",
      "|Ord_5446| Prod_6|Cust_1818| -47.64|\n",
      "|  Ord_31|Prod_12|  Cust_26|   1.32|\n",
      "|Ord_4725| Prod_4|Cust_1641|1137.91|\n",
      "|Ord_4725|Prod_13|Cust_1641|  45.84|\n",
      "|Ord_4725| Prod_6|Cust_1641| -27.72|\n",
      "|Ord_4743| Prod_2|Cust_1641|1675.98|\n",
      "|Ord_1925| Prod_6| Cust_708|  79.34|\n",
      "|Ord_2978|Prod_16|Cust_1088|  23.12|\n",
      "|Ord_2207|Prod_11| Cust_839|-693.23|\n",
      "|Ord_2207|Prod_10| Cust_839|-317.48|\n",
      "+--------+-------+---------+-------+"
     ]
    }
   ],
   "source": [
    "market_required_df = market_fact_df.select([\"Ord_id\", \"Prod_id\", \"Cust_id\",\"Profit\"]);\n",
    "market_required_df.show();"
   ]
  },
  {
   "cell_type": "code",
   "execution_count": 5,
   "id": "c54f3724",
   "metadata": {},
   "outputs": [
    {
     "data": {
      "application/vnd.jupyter.widget-view+json": {
       "model_id": "2d1bb62e1cb44d2bb1fc076776112b78",
       "version_major": 2,
       "version_minor": 0
      },
      "text/plain": [
       "VBox()"
      ]
     },
     "metadata": {},
     "output_type": "display_data"
    },
    {
     "data": {
      "application/vnd.jupyter.widget-view+json": {
       "model_id": "",
       "version_major": 2,
       "version_minor": 0
      },
      "text/plain": [
       "FloatProgress(value=0.0, bar_style='info', description='Progress:', layout=Layout(height='25px', width='50%'),…"
      ]
     },
     "metadata": {},
     "output_type": "display_data"
    },
    {
     "name": "stdout",
     "output_type": "stream",
     "text": [
      "+-------+----------------+--------------------+\n",
      "|Prod_id|Product_Category|Product_sub_category|\n",
      "+-------+----------------+--------------------+\n",
      "| Prod_1| OFFICE SUPPLIES|STORAGE & ORGANIZ...|\n",
      "|Prod_10|       FURNITURE|           BOOKCASES|\n",
      "|Prod_11|       FURNITURE|              TABLES|\n",
      "|Prod_12| OFFICE SUPPLIES|              LABELS|\n",
      "|Prod_13| OFFICE SUPPLIES| PENS & ART SUPPLIES|\n",
      "|Prod_14|      TECHNOLOGY|     COPIERS AND FAX|\n",
      "|Prod_15|       FURNITURE|  CHAIRS & CHAIRMATS|\n",
      "|Prod_16| OFFICE SUPPLIES|SCISSORS, RULERS ...|\n",
      "|Prod_17|      TECHNOLOGY|     OFFICE MACHINES|\n",
      "| Prod_2| OFFICE SUPPLIES|          APPLIANCES|\n",
      "| Prod_3| OFFICE SUPPLIES|BINDERS AND BINDE...|\n",
      "| Prod_4|      TECHNOLOGY|TELEPHONES AND CO...|\n",
      "| Prod_5|       FURNITURE|  OFFICE FURNISHINGS|\n",
      "| Prod_6| OFFICE SUPPLIES|               PAPER|\n",
      "| Prod_7| OFFICE SUPPLIES|        RUBBER BANDS|\n",
      "| Prod_8|      TECHNOLOGY|COMPUTER PERIPHERALS|\n",
      "| Prod_9| OFFICE SUPPLIES|           ENVELOPES|\n",
      "+-------+----------------+--------------------+"
     ]
    }
   ],
   "source": [
    "product_required_df = prod_dim_df.select([\"Prod_id\", \"Product_Category\", \"Product_sub_category\"]);\n",
    "product_required_df.show();"
   ]
  },
  {
   "cell_type": "code",
   "execution_count": 6,
   "id": "ba43dca2",
   "metadata": {},
   "outputs": [
    {
     "data": {
      "application/vnd.jupyter.widget-view+json": {
       "model_id": "3694e573d4e643f6a1dbd443e878e203",
       "version_major": 2,
       "version_minor": 0
      },
      "text/plain": [
       "VBox()"
      ]
     },
     "metadata": {},
     "output_type": "display_data"
    },
    {
     "data": {
      "application/vnd.jupyter.widget-view+json": {
       "model_id": "",
       "version_major": 2,
       "version_minor": 0
      },
      "text/plain": [
       "FloatProgress(value=0.0, bar_style='info', description='Progress:', layout=Layout(height='25px', width='50%'),…"
      ]
     },
     "metadata": {},
     "output_type": "display_data"
    }
   ],
   "source": [
    "market_required_df.createOrReplaceTempView(\"market_table\");"
   ]
  },
  {
   "cell_type": "code",
   "execution_count": 7,
   "id": "e20fff01",
   "metadata": {},
   "outputs": [
    {
     "data": {
      "application/vnd.jupyter.widget-view+json": {
       "model_id": "51d40536a27d48019ee31d1f73c380aa",
       "version_major": 2,
       "version_minor": 0
      },
      "text/plain": [
       "VBox()"
      ]
     },
     "metadata": {},
     "output_type": "display_data"
    },
    {
     "data": {
      "application/vnd.jupyter.widget-view+json": {
       "model_id": "",
       "version_major": 2,
       "version_minor": 0
      },
      "text/plain": [
       "FloatProgress(value=0.0, bar_style='info', description='Progress:', layout=Layout(height='25px', width='50%'),…"
      ]
     },
     "metadata": {},
     "output_type": "display_data"
    }
   ],
   "source": [
    "product_required_df.createOrReplaceTempView(\"product_table\");"
   ]
  },
  {
   "cell_type": "code",
   "execution_count": 8,
   "id": "cb61adb0",
   "metadata": {},
   "outputs": [
    {
     "data": {
      "application/vnd.jupyter.widget-view+json": {
       "model_id": "861399b64d5c4e7ab87891841b68f85b",
       "version_major": 2,
       "version_minor": 0
      },
      "text/plain": [
       "VBox()"
      ]
     },
     "metadata": {},
     "output_type": "display_data"
    },
    {
     "data": {
      "application/vnd.jupyter.widget-view+json": {
       "model_id": "",
       "version_major": 2,
       "version_minor": 0
      },
      "text/plain": [
       "FloatProgress(value=0.0, bar_style='info', description='Progress:', layout=Layout(height='25px', width='50%'),…"
      ]
     },
     "metadata": {},
     "output_type": "display_data"
    },
    {
     "name": "stdout",
     "output_type": "stream",
     "text": [
      "+--------+---------+-------+----------------+--------------------+\n",
      "|  Ord_id|  Cust_id| Profit|Product_Category|Product_sub_category|\n",
      "+--------+---------+-------+----------------+--------------------+\n",
      "|Ord_5446|Cust_1818| -30.51| OFFICE SUPPLIES|SCISSORS, RULERS ...|\n",
      "|Ord_5406|Cust_1818|   4.56| OFFICE SUPPLIES| PENS & ART SUPPLIES|\n",
      "|Ord_5446|Cust_1818| 1148.9|      TECHNOLOGY|TELEPHONES AND CO...|\n",
      "|Ord_5456|Cust_1818| 729.34| OFFICE SUPPLIES|               PAPER|\n",
      "|Ord_5485|Cust_1818|1219.87|      TECHNOLOGY|     OFFICE MACHINES|\n",
      "|Ord_5446|Cust_1818| -47.64| OFFICE SUPPLIES|               PAPER|\n",
      "|  Ord_31|  Cust_26|   1.32| OFFICE SUPPLIES|              LABELS|\n",
      "|Ord_4725|Cust_1641|1137.91|      TECHNOLOGY|TELEPHONES AND CO...|\n",
      "|Ord_4725|Cust_1641|  45.84| OFFICE SUPPLIES| PENS & ART SUPPLIES|\n",
      "|Ord_4725|Cust_1641| -27.72| OFFICE SUPPLIES|               PAPER|\n",
      "|Ord_4743|Cust_1641|1675.98| OFFICE SUPPLIES|          APPLIANCES|\n",
      "|Ord_1925| Cust_708|  79.34| OFFICE SUPPLIES|               PAPER|\n",
      "|Ord_2978|Cust_1088|  23.12| OFFICE SUPPLIES|SCISSORS, RULERS ...|\n",
      "|Ord_2207| Cust_839|-693.23|       FURNITURE|              TABLES|\n",
      "|Ord_2207| Cust_839|-317.48|       FURNITURE|           BOOKCASES|\n",
      "+--------+---------+-------+----------------+--------------------+"
     ]
    }
   ],
   "source": [
    "task1_df = spark.sql(\"select market_table.Ord_id , market_table.Cust_id, market_table.Profit, product_table.Product_Category,product_table.Product_sub_category from market_table join product_table on market_table.Prod_id == product_table.Prod_id\")\n",
    "task1_df.show();"
   ]
  },
  {
   "cell_type": "code",
   "execution_count": 9,
   "id": "10afdae3",
   "metadata": {},
   "outputs": [
    {
     "data": {
      "application/vnd.jupyter.widget-view+json": {
       "model_id": "e9fe88edd6f2499485ba00cf97a4795d",
       "version_major": 2,
       "version_minor": 0
      },
      "text/plain": [
       "VBox()"
      ]
     },
     "metadata": {},
     "output_type": "display_data"
    },
    {
     "data": {
      "application/vnd.jupyter.widget-view+json": {
       "model_id": "",
       "version_major": 2,
       "version_minor": 0
      },
      "text/plain": [
       "FloatProgress(value=0.0, bar_style='info', description='Progress:', layout=Layout(height='25px', width='50%'),…"
      ]
     },
     "metadata": {},
     "output_type": "display_data"
    }
   ],
   "source": [
    "task1_df.createOrReplaceTempView(\"join_table\");"
   ]
  },
  {
   "cell_type": "code",
   "execution_count": 10,
   "id": "75ab51b0",
   "metadata": {},
   "outputs": [
    {
     "data": {
      "application/vnd.jupyter.widget-view+json": {
       "model_id": "7c1c13fe41144ecabee2cb051cf79d37",
       "version_major": 2,
       "version_minor": 0
      },
      "text/plain": [
       "VBox()"
      ]
     },
     "metadata": {},
     "output_type": "display_data"
    },
    {
     "data": {
      "application/vnd.jupyter.widget-view+json": {
       "model_id": "",
       "version_major": 2,
       "version_minor": 0
      },
      "text/plain": [
       "FloatProgress(value=0.0, bar_style='info', description='Progress:', layout=Layout(height='25px', width='50%'),…"
      ]
     },
     "metadata": {},
     "output_type": "display_data"
    },
    {
     "name": "stdout",
     "output_type": "stream",
     "text": [
      "+--------+---------+------------+\n",
      "|  ord_id|  cust_id|total_profit|\n",
      "+--------+---------+------------+\n",
      "|Ord_5406|Cust_1818|        4.56|\n",
      "|Ord_1925| Cust_708|       79.34|\n",
      "|Ord_5456|Cust_1818|      729.34|\n",
      "|Ord_4725|Cust_1641|     1156.03|\n",
      "|Ord_2207| Cust_839|    -1010.71|\n",
      "|Ord_5485|Cust_1818|     1219.87|\n",
      "|Ord_5446|Cust_1818|     1070.75|\n",
      "|  Ord_31|  Cust_26|        1.32|\n",
      "|Ord_4743|Cust_1641|     1675.98|\n",
      "|Ord_2978|Cust_1088|       23.12|\n",
      "+--------+---------+------------+"
     ]
    }
   ],
   "source": [
    "## Finding the aggregated profit per order\n",
    "profit_per_Order = spark.sql(\"select ord_id,cust_id, sum(profit) as total_profit from join_table group by ord_id, cust_id\");\n",
    "profit_per_Order.show();"
   ]
  },
  {
   "cell_type": "markdown",
   "id": "8e99b1c8",
   "metadata": {},
   "source": [
    "### TASK 2: Find the most frequent customer based on highest orders."
   ]
  },
  {
   "cell_type": "code",
   "execution_count": 11,
   "id": "a377e48b",
   "metadata": {},
   "outputs": [
    {
     "data": {
      "application/vnd.jupyter.widget-view+json": {
       "model_id": "07f24bb4770f463a94b7af5aa392e3bb",
       "version_major": 2,
       "version_minor": 0
      },
      "text/plain": [
       "VBox()"
      ]
     },
     "metadata": {},
     "output_type": "display_data"
    },
    {
     "data": {
      "application/vnd.jupyter.widget-view+json": {
       "model_id": "",
       "version_major": 2,
       "version_minor": 0
      },
      "text/plain": [
       "FloatProgress(value=0.0, bar_style='info', description='Progress:', layout=Layout(height='25px', width='50%'),…"
      ]
     },
     "metadata": {},
     "output_type": "display_data"
    }
   ],
   "source": [
    "profit_per_Order.createOrReplaceTempView(\"order_customer_table\");"
   ]
  },
  {
   "cell_type": "code",
   "execution_count": 12,
   "id": "6bd30708",
   "metadata": {},
   "outputs": [
    {
     "data": {
      "application/vnd.jupyter.widget-view+json": {
       "model_id": "e2dbc4fa599749b384a3e9b58191fcd0",
       "version_major": 2,
       "version_minor": 0
      },
      "text/plain": [
       "VBox()"
      ]
     },
     "metadata": {},
     "output_type": "display_data"
    },
    {
     "data": {
      "application/vnd.jupyter.widget-view+json": {
       "model_id": "",
       "version_major": 2,
       "version_minor": 0
      },
      "text/plain": [
       "FloatProgress(value=0.0, bar_style='info', description='Progress:', layout=Layout(height='25px', width='50%'),…"
      ]
     },
     "metadata": {},
     "output_type": "display_data"
    },
    {
     "name": "stdout",
     "output_type": "stream",
     "text": [
      "+---------+------------+\n",
      "|  cust_id|total_orders|\n",
      "+---------+------------+\n",
      "|Cust_1818|           4|\n",
      "|Cust_1641|           2|\n",
      "| Cust_708|           1|\n",
      "|Cust_1088|           1|\n",
      "|  Cust_26|           1|\n",
      "| Cust_839|           1|\n",
      "+---------+------------+"
     ]
    }
   ],
   "source": [
    "frequent_customers = spark.sql(\"select cust_id, count(ord_id) as total_orders from order_customer_table group by cust_id order by total_orders desc\")\n",
    "frequent_customers.show();"
   ]
  },
  {
   "cell_type": "code",
   "execution_count": null,
   "id": "3ba43226",
   "metadata": {},
   "outputs": [],
   "source": []
  }
 ],
 "metadata": {
  "kernelspec": {
   "display_name": "PySpark",
   "language": "python",
   "name": "pysparkkernel"
  },
  "language_info": {
   "codemirror_mode": {
    "name": "python",
    "version": 3
   },
   "file_extension": ".py",
   "mimetype": "text/x-python",
   "name": "pyspark",
   "pygments_lexer": "python3"
  }
 },
 "nbformat": 4,
 "nbformat_minor": 5
}
